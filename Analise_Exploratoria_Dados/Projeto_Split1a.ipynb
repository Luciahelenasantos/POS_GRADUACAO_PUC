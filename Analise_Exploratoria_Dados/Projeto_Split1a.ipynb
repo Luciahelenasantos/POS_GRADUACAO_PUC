{
  "nbformat": 4,
  "nbformat_minor": 0,
  "metadata": {
    "colab": {
      "provenance": [],
      "authorship_tag": "ABX9TyMtdQhAOO2Af/vJVTYkuYXB",
      "include_colab_link": true
    },
    "kernelspec": {
      "name": "python3",
      "display_name": "Python 3"
    },
    "language_info": {
      "name": "python"
    }
  },
  "cells": [
    {
      "cell_type": "markdown",
      "metadata": {
        "id": "view-in-github",
        "colab_type": "text"
      },
      "source": [
        "<a href=\"https://colab.research.google.com/github/Luciahelenasantos/POS_GRADUACAO_PUC/blob/main/Analise_Exploratoria_Dados/Projeto_Split1a.ipynb\" target=\"_parent\"><img src=\"https://colab.research.google.com/assets/colab-badge.svg\" alt=\"Open In Colab\"/></a>"
      ]
    },
    {
      "cell_type": "markdown",
      "source": [
        "## Aluna : Lucia Helena Barros dos Santos"
      ],
      "metadata": {
        "id": "xpje7eKqy9U_"
      }
    },
    {
      "cell_type": "markdown",
      "source": [
        "## Importando bibliotecas "
      ],
      "metadata": {
        "id": "y_NLXk8Hzu2q"
      }
    },
    {
      "cell_type": "code",
      "execution_count": null,
      "metadata": {
        "id": "np1dGU0WyMuP"
      },
      "outputs": [],
      "source": [
        "import pandas as pd\n",
        "import os\n",
        "import time\n",
        "import matplotlib.pyplot as plt #biblioteca para criação de gráficos\n",
        "from google.colab import drive\n",
        "from datetime import datetime #library para alteração do tipo str para time"
      ]
    },
    {
      "cell_type": "markdown",
      "source": [
        "## Carregando Banco de dados"
      ],
      "metadata": {
        "id": "D179OzP00OC4"
      }
    },
    {
      "cell_type": "code",
      "source": [
        "drive.mount('/content/drive', force_remount=True)\n",
        "\n",
        "os.chdir('/content/drive/My Drive/')"
      ],
      "metadata": {
        "colab": {
          "base_uri": "https://localhost:8080/"
        },
        "id": "hltDclZ_0GsH",
        "outputId": "cdb5e420-e5fd-4c06-d1c3-9e85a0b16fbc"
      },
      "execution_count": null,
      "outputs": [
        {
          "output_type": "stream",
          "name": "stdout",
          "text": [
            "Mounted at /content/drive\n"
          ]
        }
      ]
    },
    {
      "cell_type": "code",
      "source": [
        "dadoar = pd.read_csv('dados/2020RJ1RIO.csv', delimiter = ';')"
      ],
      "metadata": {
        "id": "kPcxqKwq0mox"
      },
      "execution_count": null,
      "outputs": []
    },
    {
      "cell_type": "code",
      "source": [
        "dadoar.info()"
      ],
      "metadata": {
        "colab": {
          "base_uri": "https://localhost:8080/"
        },
        "id": "_otz3WAS0zQ-",
        "outputId": "447c9d9e-6029-46b7-cd74-5db75b240423"
      },
      "execution_count": null,
      "outputs": [
        {
          "output_type": "stream",
          "name": "stdout",
          "text": [
            "<class 'pandas.core.frame.DataFrame'>\n",
            "RangeIndex: 132808 entries, 0 to 132807\n",
            "Data columns (total 8 columns):\n",
            " #   Column    Non-Null Count   Dtype  \n",
            "---  ------    --------------   -----  \n",
            " 0   Data      132808 non-null  object \n",
            " 1   Hora      132808 non-null  object \n",
            " 2   Estacao   132808 non-null  object \n",
            " 3   Codigo    132808 non-null  object \n",
            " 4   Poluente  132808 non-null  object \n",
            " 5   Valor     132808 non-null  float64\n",
            " 6   Unidade   132808 non-null  object \n",
            " 7   Tipo      132808 non-null  object \n",
            "dtypes: float64(1), object(7)\n",
            "memory usage: 8.1+ MB\n"
          ]
        }
      ]
    },
    {
      "cell_type": "code",
      "source": [
        "print(dadoar)"
      ],
      "metadata": {
        "colab": {
          "base_uri": "https://localhost:8080/"
        },
        "id": "g9lhKaDd8sFJ",
        "outputId": "4c1b8c36-3e86-4fe0-8eb9-f2be4c19d6c6"
      },
      "execution_count": null,
      "outputs": [
        {
          "output_type": "stream",
          "name": "stdout",
          "text": [
            "              Data   Hora                  Estacao Codigo Poluente      Valor  \\\n",
            "0       01/01/2020  00:00            RJ - Engenhão   RJ05       CO   0.860000   \n",
            "1       01/01/2020  00:00      RJ - Ilha de Paqueá   RJ11       CO   0.280000   \n",
            "2       01/01/2020  00:00  RJ - Ilha do Governador   RJ10       CO   0.620000   \n",
            "3       01/01/2020  00:00      RJ - Lourenço Jorge   RJ97       CO   1.800000   \n",
            "4       01/01/2020  00:00          RJ - Manguinhos  RJ222       CO  14.360000   \n",
            "...            ...    ...                      ...    ...      ...        ...   \n",
            "132803  05/07/2020  09:00   RJ - Campo dos Afonsos   RJ13      NO2  31.990593   \n",
            "132804  05/07/2020  09:00            RJ - Engenhão   RJ05      NO2  23.898855   \n",
            "132805  05/07/2020  09:00      RJ - Ilha de Paqueá   RJ11      NO2   3.801235   \n",
            "132806  05/07/2020  09:00  RJ - Ilha do Governador   RJ10      NO2  19.683624   \n",
            "132807  05/07/2020  09:00          RJ - Manguinhos  RJ222      NO2  15.261395   \n",
            "\n",
            "       Unidade        Tipo  \n",
            "0          ppm  automático  \n",
            "1          ppm  automático  \n",
            "2          ppm  automático  \n",
            "3          ppm  automático  \n",
            "4          ppm  automático  \n",
            "...        ...         ...  \n",
            "132803   µg/m3  automático  \n",
            "132804   µg/m3  automático  \n",
            "132805   µg/m3  automático  \n",
            "132806   µg/m3  automático  \n",
            "132807   µg/m3  automático  \n",
            "\n",
            "[132808 rows x 8 columns]\n"
          ]
        }
      ]
    },
    {
      "cell_type": "markdown",
      "source": [
        "## Tratando o Banco de dados "
      ],
      "metadata": {
        "id": "3sksB6MY2XTl"
      }
    },
    {
      "cell_type": "code",
      "source": [
        "# Alterando o atributo Data de str para formato data\n",
        "dadoar['Data'] = pd.to_datetime(dadoar['Data'])"
      ],
      "metadata": {
        "id": "zC6aoqOYIZjo"
      },
      "execution_count": null,
      "outputs": []
    },
    {
      "cell_type": "code",
      "source": [
        "# Alterando o atributo Hora de str para formato time ????? dando erro ainda não consegui\n",
        "dadoar['Hora'] = pd.to_datetime(dadoar['Hora'],format= '%H:%M').dt.time"
      ],
      "metadata": {
        "id": "VEcJ4F9N2VXC"
      },
      "execution_count": null,
      "outputs": []
    },
    {
      "cell_type": "code",
      "source": [
        "dadoar.info()"
      ],
      "metadata": {
        "colab": {
          "base_uri": "https://localhost:8080/"
        },
        "id": "UtMT5vs5-0QA",
        "outputId": "6e6ba7b4-0a8d-4fd3-9a3e-5d24908f551b"
      },
      "execution_count": null,
      "outputs": [
        {
          "output_type": "stream",
          "name": "stdout",
          "text": [
            "<class 'pandas.core.frame.DataFrame'>\n",
            "RangeIndex: 132808 entries, 0 to 132807\n",
            "Data columns (total 8 columns):\n",
            " #   Column    Non-Null Count   Dtype         \n",
            "---  ------    --------------   -----         \n",
            " 0   Data      132808 non-null  datetime64[ns]\n",
            " 1   Hora      132808 non-null  object        \n",
            " 2   Estacao   132808 non-null  object        \n",
            " 3   Codigo    132808 non-null  object        \n",
            " 4   Poluente  132808 non-null  object        \n",
            " 5   Valor     132808 non-null  float64       \n",
            " 6   Unidade   132808 non-null  object        \n",
            " 7   Tipo      132808 non-null  object        \n",
            "dtypes: datetime64[ns](1), float64(1), object(6)\n",
            "memory usage: 8.1+ MB\n"
          ]
        }
      ]
    },
    {
      "cell_type": "code",
      "source": [
        "# criando os campos ano, mês e dia que servirão de filtros\n",
        "# Acessando os atributos da DAta\n",
        "dadoar['Ano'] = dadoar['Data'].year\n",
        "#dadoar[Mes] = Data.month\n",
        "#dadoar[Dia] = Data.day\n"
      ],
      "metadata": {
        "id": "o07NKwe6EL0W"
      },
      "execution_count": null,
      "outputs": []
    },
    {
      "cell_type": "code",
      "source": [
        "dadoar"
      ],
      "metadata": {
        "id": "AM_6KJHtLAps"
      },
      "execution_count": null,
      "outputs": []
    },
    {
      "cell_type": "markdown",
      "source": [
        "## Análise exploratória \n"
      ],
      "metadata": {
        "id": "BCEOpgIi_jES"
      }
    },
    {
      "cell_type": "code",
      "source": [
        "# exibindo a quantidade de linhas por coluna\n",
        "dadoar.groupby('Poluente').count()"
      ],
      "metadata": {
        "id": "iJFKvP-F-iGD"
      },
      "execution_count": null,
      "outputs": []
    },
    {
      "cell_type": "code",
      "source": [
        "# exibindo um sumário estatístico\n",
        "dadoar.groupby('Poluente'). describe()"
      ],
      "metadata": {
        "colab": {
          "base_uri": "https://localhost:8080/",
          "height": 332
        },
        "id": "WxaW7JVdAJ_A",
        "outputId": "d364890e-6621-4936-dee5-97e7d43aea77"
      },
      "execution_count": null,
      "outputs": [
        {
          "output_type": "execute_result",
          "data": {
            "text/plain": [
              "            Valor                                                    \\\n",
              "            count       mean        std   min        25%        50%   \n",
              "Poluente                                                              \n",
              "CO        26769.0   0.992910   2.676179  0.00   0.280000   0.540000   \n",
              "MP10      16007.0  19.481670  24.884319  0.00   3.825000  14.000000   \n",
              "MP2.5       150.0  26.076400  24.778121  1.35   7.000000  13.930000   \n",
              "NO2       18619.0  19.259431  17.697604  0.00   8.769186  14.696855   \n",
              "O3        40236.0  33.230629  87.415522  0.00   7.067485  19.651534   \n",
              "PTS        8686.0  33.594476  20.288656  0.00  21.000000  30.000000   \n",
              "SO2       22341.0   6.852049   6.431037  0.00   3.089235   6.283190   \n",
              "\n",
              "                                  \n",
              "                75%          max  \n",
              "Poluente                          \n",
              "CO         0.930000    66.800000  \n",
              "MP10      26.000000   589.750000  \n",
              "MP2.5     46.190000    96.000000  \n",
              "NO2       23.710675   284.904458  \n",
              "O3        38.130061  1199.803681  \n",
              "PTS       43.000000   232.000000  \n",
              "SO2        9.162986   369.425403  "
            ],
            "text/html": [
              "\n",
              "  <div id=\"df-0616ae9a-595f-4f90-b09f-864c9b6616c2\">\n",
              "    <div class=\"colab-df-container\">\n",
              "      <div>\n",
              "<style scoped>\n",
              "    .dataframe tbody tr th:only-of-type {\n",
              "        vertical-align: middle;\n",
              "    }\n",
              "\n",
              "    .dataframe tbody tr th {\n",
              "        vertical-align: top;\n",
              "    }\n",
              "\n",
              "    .dataframe thead tr th {\n",
              "        text-align: left;\n",
              "    }\n",
              "\n",
              "    .dataframe thead tr:last-of-type th {\n",
              "        text-align: right;\n",
              "    }\n",
              "</style>\n",
              "<table border=\"1\" class=\"dataframe\">\n",
              "  <thead>\n",
              "    <tr>\n",
              "      <th></th>\n",
              "      <th colspan=\"8\" halign=\"left\">Valor</th>\n",
              "    </tr>\n",
              "    <tr>\n",
              "      <th></th>\n",
              "      <th>count</th>\n",
              "      <th>mean</th>\n",
              "      <th>std</th>\n",
              "      <th>min</th>\n",
              "      <th>25%</th>\n",
              "      <th>50%</th>\n",
              "      <th>75%</th>\n",
              "      <th>max</th>\n",
              "    </tr>\n",
              "    <tr>\n",
              "      <th>Poluente</th>\n",
              "      <th></th>\n",
              "      <th></th>\n",
              "      <th></th>\n",
              "      <th></th>\n",
              "      <th></th>\n",
              "      <th></th>\n",
              "      <th></th>\n",
              "      <th></th>\n",
              "    </tr>\n",
              "  </thead>\n",
              "  <tbody>\n",
              "    <tr>\n",
              "      <th>CO</th>\n",
              "      <td>26769.0</td>\n",
              "      <td>0.992910</td>\n",
              "      <td>2.676179</td>\n",
              "      <td>0.00</td>\n",
              "      <td>0.280000</td>\n",
              "      <td>0.540000</td>\n",
              "      <td>0.930000</td>\n",
              "      <td>66.800000</td>\n",
              "    </tr>\n",
              "    <tr>\n",
              "      <th>MP10</th>\n",
              "      <td>16007.0</td>\n",
              "      <td>19.481670</td>\n",
              "      <td>24.884319</td>\n",
              "      <td>0.00</td>\n",
              "      <td>3.825000</td>\n",
              "      <td>14.000000</td>\n",
              "      <td>26.000000</td>\n",
              "      <td>589.750000</td>\n",
              "    </tr>\n",
              "    <tr>\n",
              "      <th>MP2.5</th>\n",
              "      <td>150.0</td>\n",
              "      <td>26.076400</td>\n",
              "      <td>24.778121</td>\n",
              "      <td>1.35</td>\n",
              "      <td>7.000000</td>\n",
              "      <td>13.930000</td>\n",
              "      <td>46.190000</td>\n",
              "      <td>96.000000</td>\n",
              "    </tr>\n",
              "    <tr>\n",
              "      <th>NO2</th>\n",
              "      <td>18619.0</td>\n",
              "      <td>19.259431</td>\n",
              "      <td>17.697604</td>\n",
              "      <td>0.00</td>\n",
              "      <td>8.769186</td>\n",
              "      <td>14.696855</td>\n",
              "      <td>23.710675</td>\n",
              "      <td>284.904458</td>\n",
              "    </tr>\n",
              "    <tr>\n",
              "      <th>O3</th>\n",
              "      <td>40236.0</td>\n",
              "      <td>33.230629</td>\n",
              "      <td>87.415522</td>\n",
              "      <td>0.00</td>\n",
              "      <td>7.067485</td>\n",
              "      <td>19.651534</td>\n",
              "      <td>38.130061</td>\n",
              "      <td>1199.803681</td>\n",
              "    </tr>\n",
              "    <tr>\n",
              "      <th>PTS</th>\n",
              "      <td>8686.0</td>\n",
              "      <td>33.594476</td>\n",
              "      <td>20.288656</td>\n",
              "      <td>0.00</td>\n",
              "      <td>21.000000</td>\n",
              "      <td>30.000000</td>\n",
              "      <td>43.000000</td>\n",
              "      <td>232.000000</td>\n",
              "    </tr>\n",
              "    <tr>\n",
              "      <th>SO2</th>\n",
              "      <td>22341.0</td>\n",
              "      <td>6.852049</td>\n",
              "      <td>6.431037</td>\n",
              "      <td>0.00</td>\n",
              "      <td>3.089235</td>\n",
              "      <td>6.283190</td>\n",
              "      <td>9.162986</td>\n",
              "      <td>369.425403</td>\n",
              "    </tr>\n",
              "  </tbody>\n",
              "</table>\n",
              "</div>\n",
              "      <button class=\"colab-df-convert\" onclick=\"convertToInteractive('df-0616ae9a-595f-4f90-b09f-864c9b6616c2')\"\n",
              "              title=\"Convert this dataframe to an interactive table.\"\n",
              "              style=\"display:none;\">\n",
              "        \n",
              "  <svg xmlns=\"http://www.w3.org/2000/svg\" height=\"24px\"viewBox=\"0 0 24 24\"\n",
              "       width=\"24px\">\n",
              "    <path d=\"M0 0h24v24H0V0z\" fill=\"none\"/>\n",
              "    <path d=\"M18.56 5.44l.94 2.06.94-2.06 2.06-.94-2.06-.94-.94-2.06-.94 2.06-2.06.94zm-11 1L8.5 8.5l.94-2.06 2.06-.94-2.06-.94L8.5 2.5l-.94 2.06-2.06.94zm10 10l.94 2.06.94-2.06 2.06-.94-2.06-.94-.94-2.06-.94 2.06-2.06.94z\"/><path d=\"M17.41 7.96l-1.37-1.37c-.4-.4-.92-.59-1.43-.59-.52 0-1.04.2-1.43.59L10.3 9.45l-7.72 7.72c-.78.78-.78 2.05 0 2.83L4 21.41c.39.39.9.59 1.41.59.51 0 1.02-.2 1.41-.59l7.78-7.78 2.81-2.81c.8-.78.8-2.07 0-2.86zM5.41 20L4 18.59l7.72-7.72 1.47 1.35L5.41 20z\"/>\n",
              "  </svg>\n",
              "      </button>\n",
              "      \n",
              "  <style>\n",
              "    .colab-df-container {\n",
              "      display:flex;\n",
              "      flex-wrap:wrap;\n",
              "      gap: 12px;\n",
              "    }\n",
              "\n",
              "    .colab-df-convert {\n",
              "      background-color: #E8F0FE;\n",
              "      border: none;\n",
              "      border-radius: 50%;\n",
              "      cursor: pointer;\n",
              "      display: none;\n",
              "      fill: #1967D2;\n",
              "      height: 32px;\n",
              "      padding: 0 0 0 0;\n",
              "      width: 32px;\n",
              "    }\n",
              "\n",
              "    .colab-df-convert:hover {\n",
              "      background-color: #E2EBFA;\n",
              "      box-shadow: 0px 1px 2px rgba(60, 64, 67, 0.3), 0px 1px 3px 1px rgba(60, 64, 67, 0.15);\n",
              "      fill: #174EA6;\n",
              "    }\n",
              "\n",
              "    [theme=dark] .colab-df-convert {\n",
              "      background-color: #3B4455;\n",
              "      fill: #D2E3FC;\n",
              "    }\n",
              "\n",
              "    [theme=dark] .colab-df-convert:hover {\n",
              "      background-color: #434B5C;\n",
              "      box-shadow: 0px 1px 3px 1px rgba(0, 0, 0, 0.15);\n",
              "      filter: drop-shadow(0px 1px 2px rgba(0, 0, 0, 0.3));\n",
              "      fill: #FFFFFF;\n",
              "    }\n",
              "  </style>\n",
              "\n",
              "      <script>\n",
              "        const buttonEl =\n",
              "          document.querySelector('#df-0616ae9a-595f-4f90-b09f-864c9b6616c2 button.colab-df-convert');\n",
              "        buttonEl.style.display =\n",
              "          google.colab.kernel.accessAllowed ? 'block' : 'none';\n",
              "\n",
              "        async function convertToInteractive(key) {\n",
              "          const element = document.querySelector('#df-0616ae9a-595f-4f90-b09f-864c9b6616c2');\n",
              "          const dataTable =\n",
              "            await google.colab.kernel.invokeFunction('convertToInteractive',\n",
              "                                                     [key], {});\n",
              "          if (!dataTable) return;\n",
              "\n",
              "          const docLinkHtml = 'Like what you see? Visit the ' +\n",
              "            '<a target=\"_blank\" href=https://colab.research.google.com/notebooks/data_table.ipynb>data table notebook</a>'\n",
              "            + ' to learn more about interactive tables.';\n",
              "          element.innerHTML = '';\n",
              "          dataTable['output_type'] = 'display_data';\n",
              "          await google.colab.output.renderOutput(dataTable, element);\n",
              "          const docLink = document.createElement('div');\n",
              "          docLink.innerHTML = docLinkHtml;\n",
              "          element.appendChild(docLink);\n",
              "        }\n",
              "      </script>\n",
              "    </div>\n",
              "  </div>\n",
              "  "
            ]
          },
          "metadata": {},
          "execution_count": 52
        }
      ]
    },
    {
      "cell_type": "code",
      "source": [
        "# exibindo a média de cada atributo, agrupado por Poluente\n",
        "dadoar.groupby('Poluente').mean()"
      ],
      "metadata": {
        "colab": {
          "base_uri": "https://localhost:8080/",
          "height": 300
        },
        "id": "GAOlKP5ZAwsJ",
        "outputId": "29452b76-36a2-41a2-caab-1d278a215dac"
      },
      "execution_count": null,
      "outputs": [
        {
          "output_type": "execute_result",
          "data": {
            "text/plain": [
              "              Valor\n",
              "Poluente           \n",
              "CO         0.992910\n",
              "MP10      19.481670\n",
              "MP2.5     26.076400\n",
              "NO2       19.259431\n",
              "O3        33.230629\n",
              "PTS       33.594476\n",
              "SO2        6.852049"
            ],
            "text/html": [
              "\n",
              "  <div id=\"df-d612d303-d44b-4e52-ad3a-62f8714560bd\">\n",
              "    <div class=\"colab-df-container\">\n",
              "      <div>\n",
              "<style scoped>\n",
              "    .dataframe tbody tr th:only-of-type {\n",
              "        vertical-align: middle;\n",
              "    }\n",
              "\n",
              "    .dataframe tbody tr th {\n",
              "        vertical-align: top;\n",
              "    }\n",
              "\n",
              "    .dataframe thead th {\n",
              "        text-align: right;\n",
              "    }\n",
              "</style>\n",
              "<table border=\"1\" class=\"dataframe\">\n",
              "  <thead>\n",
              "    <tr style=\"text-align: right;\">\n",
              "      <th></th>\n",
              "      <th>Valor</th>\n",
              "    </tr>\n",
              "    <tr>\n",
              "      <th>Poluente</th>\n",
              "      <th></th>\n",
              "    </tr>\n",
              "  </thead>\n",
              "  <tbody>\n",
              "    <tr>\n",
              "      <th>CO</th>\n",
              "      <td>0.992910</td>\n",
              "    </tr>\n",
              "    <tr>\n",
              "      <th>MP10</th>\n",
              "      <td>19.481670</td>\n",
              "    </tr>\n",
              "    <tr>\n",
              "      <th>MP2.5</th>\n",
              "      <td>26.076400</td>\n",
              "    </tr>\n",
              "    <tr>\n",
              "      <th>NO2</th>\n",
              "      <td>19.259431</td>\n",
              "    </tr>\n",
              "    <tr>\n",
              "      <th>O3</th>\n",
              "      <td>33.230629</td>\n",
              "    </tr>\n",
              "    <tr>\n",
              "      <th>PTS</th>\n",
              "      <td>33.594476</td>\n",
              "    </tr>\n",
              "    <tr>\n",
              "      <th>SO2</th>\n",
              "      <td>6.852049</td>\n",
              "    </tr>\n",
              "  </tbody>\n",
              "</table>\n",
              "</div>\n",
              "      <button class=\"colab-df-convert\" onclick=\"convertToInteractive('df-d612d303-d44b-4e52-ad3a-62f8714560bd')\"\n",
              "              title=\"Convert this dataframe to an interactive table.\"\n",
              "              style=\"display:none;\">\n",
              "        \n",
              "  <svg xmlns=\"http://www.w3.org/2000/svg\" height=\"24px\"viewBox=\"0 0 24 24\"\n",
              "       width=\"24px\">\n",
              "    <path d=\"M0 0h24v24H0V0z\" fill=\"none\"/>\n",
              "    <path d=\"M18.56 5.44l.94 2.06.94-2.06 2.06-.94-2.06-.94-.94-2.06-.94 2.06-2.06.94zm-11 1L8.5 8.5l.94-2.06 2.06-.94-2.06-.94L8.5 2.5l-.94 2.06-2.06.94zm10 10l.94 2.06.94-2.06 2.06-.94-2.06-.94-.94-2.06-.94 2.06-2.06.94z\"/><path d=\"M17.41 7.96l-1.37-1.37c-.4-.4-.92-.59-1.43-.59-.52 0-1.04.2-1.43.59L10.3 9.45l-7.72 7.72c-.78.78-.78 2.05 0 2.83L4 21.41c.39.39.9.59 1.41.59.51 0 1.02-.2 1.41-.59l7.78-7.78 2.81-2.81c.8-.78.8-2.07 0-2.86zM5.41 20L4 18.59l7.72-7.72 1.47 1.35L5.41 20z\"/>\n",
              "  </svg>\n",
              "      </button>\n",
              "      \n",
              "  <style>\n",
              "    .colab-df-container {\n",
              "      display:flex;\n",
              "      flex-wrap:wrap;\n",
              "      gap: 12px;\n",
              "    }\n",
              "\n",
              "    .colab-df-convert {\n",
              "      background-color: #E8F0FE;\n",
              "      border: none;\n",
              "      border-radius: 50%;\n",
              "      cursor: pointer;\n",
              "      display: none;\n",
              "      fill: #1967D2;\n",
              "      height: 32px;\n",
              "      padding: 0 0 0 0;\n",
              "      width: 32px;\n",
              "    }\n",
              "\n",
              "    .colab-df-convert:hover {\n",
              "      background-color: #E2EBFA;\n",
              "      box-shadow: 0px 1px 2px rgba(60, 64, 67, 0.3), 0px 1px 3px 1px rgba(60, 64, 67, 0.15);\n",
              "      fill: #174EA6;\n",
              "    }\n",
              "\n",
              "    [theme=dark] .colab-df-convert {\n",
              "      background-color: #3B4455;\n",
              "      fill: #D2E3FC;\n",
              "    }\n",
              "\n",
              "    [theme=dark] .colab-df-convert:hover {\n",
              "      background-color: #434B5C;\n",
              "      box-shadow: 0px 1px 3px 1px rgba(0, 0, 0, 0.15);\n",
              "      filter: drop-shadow(0px 1px 2px rgba(0, 0, 0, 0.3));\n",
              "      fill: #FFFFFF;\n",
              "    }\n",
              "  </style>\n",
              "\n",
              "      <script>\n",
              "        const buttonEl =\n",
              "          document.querySelector('#df-d612d303-d44b-4e52-ad3a-62f8714560bd button.colab-df-convert');\n",
              "        buttonEl.style.display =\n",
              "          google.colab.kernel.accessAllowed ? 'block' : 'none';\n",
              "\n",
              "        async function convertToInteractive(key) {\n",
              "          const element = document.querySelector('#df-d612d303-d44b-4e52-ad3a-62f8714560bd');\n",
              "          const dataTable =\n",
              "            await google.colab.kernel.invokeFunction('convertToInteractive',\n",
              "                                                     [key], {});\n",
              "          if (!dataTable) return;\n",
              "\n",
              "          const docLinkHtml = 'Like what you see? Visit the ' +\n",
              "            '<a target=\"_blank\" href=https://colab.research.google.com/notebooks/data_table.ipynb>data table notebook</a>'\n",
              "            + ' to learn more about interactive tables.';\n",
              "          element.innerHTML = '';\n",
              "          dataTable['output_type'] = 'display_data';\n",
              "          await google.colab.output.renderOutput(dataTable, element);\n",
              "          const docLink = document.createElement('div');\n",
              "          docLink.innerHTML = docLinkHtml;\n",
              "          element.appendChild(docLink);\n",
              "        }\n",
              "      </script>\n",
              "    </div>\n",
              "  </div>\n",
              "  "
            ]
          },
          "metadata": {},
          "execution_count": 47
        }
      ]
    },
    {
      "cell_type": "markdown",
      "source": [
        "## Gráficos"
      ],
      "metadata": {
        "id": "KSMEoCTfDz5W"
      }
    },
    {
      "cell_type": "code",
      "source": [
        "# plotando o gráfico de Umidade Relativa x Chuva\n",
        "plt.scatter(df1['md24hs_UR'], df1['md24hs_Chuva'])\n",
        "\n",
        "# incluindo título do gráfico e rótulos dos eixos\n",
        "plt.title('poluentes: UR - Umidade Relativa x Chuva')\n",
        "plt.xlabel('Umidade Relativa')\n",
        "plt.ylabel('Chuva');"
      ],
      "metadata": {
        "id": "CUh8mlIaD4Ow"
      },
      "execution_count": null,
      "outputs": []
    }
  ]
}