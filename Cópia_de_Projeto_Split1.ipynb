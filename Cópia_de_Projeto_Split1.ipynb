{
  "nbformat": 4,
  "nbformat_minor": 0,
  "metadata": {
    "colab": {
      "provenance": [],
      "authorship_tag": "ABX9TyO3F1l9zG/Yi4YkjAhFwk2B",
      "include_colab_link": true
    },
    "kernelspec": {
      "name": "python3",
      "display_name": "Python 3"
    },
    "language_info": {
      "name": "python"
    }
  },
  "cells": [
    {
      "cell_type": "markdown",
      "metadata": {
        "id": "view-in-github",
        "colab_type": "text"
      },
      "source": [
        "<a href=\"https://colab.research.google.com/github/Luciahelenasantos/POS_GRADUACAO_PUC/blob/main/C%C3%B3pia_de_Projeto_Split1.ipynb\" target=\"_parent\"><img src=\"https://colab.research.google.com/assets/colab-badge.svg\" alt=\"Open In Colab\"/></a>"
      ]
    },
    {
      "cell_type": "markdown",
      "source": [
        "# ***Análise de poluentes***  "
      ],
      "metadata": {
        "id": "MGPFzA_U2yaJ"
      }
    },
    {
      "cell_type": "markdown",
      "source": [
        "## Carregando bibliotecas"
      ],
      "metadata": {
        "id": "aRvdsQKw8lYQ"
      }
    },
    {
      "cell_type": "code",
      "execution_count": 3,
      "metadata": {
        "id": "E2WIZxutyScU"
      },
      "outputs": [],
      "source": [
        "# importação do pandas\n",
        "import pandas as pd"
      ]
    },
    {
      "cell_type": "markdown",
      "source": [
        "## Carregando Dados"
      ],
      "metadata": {
        "id": "A9EyFQrG8sOA"
      }
    },
    {
      "cell_type": "code",
      "source": [
        "#Este bloco com estes comandos no início do script permite que não seja necessário dar upload dos arquivos usados\n",
        "from google.colab import drive\n",
        "drive.mount('/content/drive', force_remount=True)\n",
        "\n",
        "import os\n",
        "os.chdir('/content/drive/My Drive/')\n",
        "\n",
        "\n",
        "dadoar = pd.read_csv('dados/2020RJ1.csv', delimiter = ';')"
      ],
      "metadata": {
        "id": "RHNc7HsU3RxK",
        "colab": {
          "base_uri": "https://localhost:8080/"
        },
        "outputId": "c26ec5d0-8467-4b07-ff7e-85752b4c3d17"
      },
      "execution_count": 4,
      "outputs": [
        {
          "output_type": "stream",
          "name": "stdout",
          "text": [
            "Mounted at /content/drive\n"
          ]
        }
      ]
    },
    {
      "cell_type": "code",
      "source": [
        "# Criando variável dia mês e ano, que servirão de filtros \n"
      ],
      "metadata": {
        "id": "d-JdkiP3E12B"
      },
      "execution_count": 6,
      "outputs": []
    },
    {
      "cell_type": "markdown",
      "source": [],
      "metadata": {
        "id": "FnZ0Ksv72vyx"
      }
    }
  ]
}