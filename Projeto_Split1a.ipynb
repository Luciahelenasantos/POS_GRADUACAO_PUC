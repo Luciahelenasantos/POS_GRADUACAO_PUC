{
  "nbformat": 4,
  "nbformat_minor": 0,
  "metadata": {
    "colab": {
      "provenance": [],
      "authorship_tag": "ABX9TyNkYfdyr8cTilDFkesSF+32",
      "include_colab_link": true
    },
    "kernelspec": {
      "name": "python3",
      "display_name": "Python 3"
    },
    "language_info": {
      "name": "python"
    }
  },
  "cells": [
    {
      "cell_type": "markdown",
      "metadata": {
        "id": "view-in-github",
        "colab_type": "text"
      },
      "source": [
        "<a href=\"https://colab.research.google.com/github/Luciahelenasantos/POS_GRADUACAO_PUC/blob/main/Projeto_Split1a.ipynb\" target=\"_parent\"><img src=\"https://colab.research.google.com/assets/colab-badge.svg\" alt=\"Open In Colab\"/></a>"
      ]
    },
    {
      "cell_type": "markdown",
      "source": [
        "## Aluna : Lucia Helena Barros dos Santos"
      ],
      "metadata": {
        "id": "xpje7eKqy9U_"
      }
    },
    {
      "cell_type": "markdown",
      "source": [
        "## Importando bibliotecas "
      ],
      "metadata": {
        "id": "y_NLXk8Hzu2q"
      }
    },
    {
      "cell_type": "code",
      "execution_count": 14,
      "metadata": {
        "id": "np1dGU0WyMuP"
      },
      "outputs": [],
      "source": [
        "import pandas as pd\n",
        "import os\n",
        "from google.colab import drive\n",
        "from datetime import datetime #library para alteração do tipo str para time\n"
      ]
    },
    {
      "cell_type": "markdown",
      "source": [
        "## Carregando Banco de dados"
      ],
      "metadata": {
        "id": "D179OzP00OC4"
      }
    },
    {
      "cell_type": "code",
      "source": [
        "drive.mount('/content/drive', force_remount=True)\n",
        "\n",
        "os.chdir('/content/drive/My Drive/')"
      ],
      "metadata": {
        "colab": {
          "base_uri": "https://localhost:8080/"
        },
        "id": "hltDclZ_0GsH",
        "outputId": "3372ba94-b098-4528-8fa8-dd454c2609bd"
      },
      "execution_count": 2,
      "outputs": [
        {
          "output_type": "stream",
          "name": "stdout",
          "text": [
            "Mounted at /content/drive\n"
          ]
        }
      ]
    },
    {
      "cell_type": "code",
      "source": [
        "dadoar = pd.read_csv('dados/2020RJ1RIO.csv', delimiter = ';')"
      ],
      "metadata": {
        "id": "kPcxqKwq0mox"
      },
      "execution_count": 3,
      "outputs": []
    },
    {
      "cell_type": "code",
      "source": [
        "dadoar.info()"
      ],
      "metadata": {
        "colab": {
          "base_uri": "https://localhost:8080/"
        },
        "id": "_otz3WAS0zQ-",
        "outputId": "ad1ed003-fe6d-4267-a7f4-6dd7f7eff16f"
      },
      "execution_count": 21,
      "outputs": [
        {
          "output_type": "stream",
          "name": "stdout",
          "text": [
            "<class 'pandas.core.frame.DataFrame'>\n",
            "RangeIndex: 132808 entries, 0 to 132807\n",
            "Data columns (total 8 columns):\n",
            " #   Column    Non-Null Count   Dtype         \n",
            "---  ------    --------------   -----         \n",
            " 0   Data      132808 non-null  datetime64[ns]\n",
            " 1   Hora      132808 non-null  object        \n",
            " 2   Estacao   132808 non-null  object        \n",
            " 3   Codigo    132808 non-null  object        \n",
            " 4   Poluente  132808 non-null  object        \n",
            " 5   Valor     132808 non-null  float64       \n",
            " 6   Unidade   132808 non-null  object        \n",
            " 7   Tipo      132808 non-null  object        \n",
            "dtypes: datetime64[ns](1), float64(1), object(6)\n",
            "memory usage: 8.1+ MB\n"
          ]
        }
      ]
    },
    {
      "cell_type": "markdown",
      "source": [
        "## Tratando o Banco de dados "
      ],
      "metadata": {
        "id": "3sksB6MY2XTl"
      }
    },
    {
      "cell_type": "code",
      "source": [
        "#dadoar['Data'] = pd.to_datetime(dadoar['Data'])\n",
        "\n",
        "dadoar['Hora'] = datetime.strptime(dadoar['Hora'])\n",
        "\n",
        "#data_e_hora = datetime.strptime(data_em_texto, ‘%d/%m/%Y %H:%M’)\n",
        "dadoar"
      ],
      "metadata": {
        "id": "VEcJ4F9N2VXC"
      },
      "execution_count": null,
      "outputs": []
    }
  ]
}